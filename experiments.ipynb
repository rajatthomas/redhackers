{
 "cells": [
  {
   "cell_type": "code",
   "execution_count": 267,
   "metadata": {
    "collapsed": true
   },
   "outputs": [],
   "source": [
    "%matplotlib inline\n",
    "import pandas as pd\n",
    "import matplotlib.pyplot as plt\n",
    "import numpy as np\n",
    "import load_data\n",
    "reload(load_data)\n",
    "from load_data import run\n"
   ]
  },
  {
   "cell_type": "code",
   "execution_count": 166,
   "metadata": {},
   "outputs": [],
   "source": [
    "df = run(PATH='1. Modelling challenge/trainingset.csv')"
   ]
  },
  {
   "cell_type": "code",
   "execution_count": 130,
   "metadata": {},
   "outputs": [
    {
     "data": {
      "text/html": [
       "<div>\n",
       "<style>\n",
       "    .dataframe thead tr:only-child th {\n",
       "        text-align: right;\n",
       "    }\n",
       "\n",
       "    .dataframe thead th {\n",
       "        text-align: left;\n",
       "    }\n",
       "\n",
       "    .dataframe tbody tr th {\n",
       "        vertical-align: top;\n",
       "    }\n",
       "</style>\n",
       "<table border=\"1\" class=\"dataframe\">\n",
       "  <thead>\n",
       "    <tr style=\"text-align: right;\">\n",
       "      <th></th>\n",
       "      <th>typhoon_name</th>\n",
       "      <th>admin_L3_code</th>\n",
       "      <th>admin_L2_code</th>\n",
       "      <th>admin_L3_name</th>\n",
       "      <th>comp_damage_houses</th>\n",
       "      <th>part_damage_houses</th>\n",
       "      <th>total_damage_houses</th>\n",
       "      <th>pop_15</th>\n",
       "      <th>n_households</th>\n",
       "      <th>pop_density_15</th>\n",
       "      <th>...</th>\n",
       "      <th>roof_iron</th>\n",
       "      <th>roof_half_conc</th>\n",
       "      <th>roof_wood</th>\n",
       "      <th>wall_conc</th>\n",
       "      <th>wall_wood</th>\n",
       "      <th>wall_iron</th>\n",
       "      <th>wall_makeshift</th>\n",
       "      <th>wall_bamboo</th>\n",
       "      <th>wall_half_wood</th>\n",
       "      <th>mean_elevation_neighbours</th>\n",
       "    </tr>\n",
       "  </thead>\n",
       "  <tbody>\n",
       "    <tr>\n",
       "      <th>0</th>\n",
       "      <td>Hagupit</td>\n",
       "      <td>PH045620000</td>\n",
       "      <td>PH045600000</td>\n",
       "      <td>INFANTA</td>\n",
       "      <td>1</td>\n",
       "      <td>1</td>\n",
       "      <td>2</td>\n",
       "      <td>69079</td>\n",
       "      <td>14638</td>\n",
       "      <td>401.099731</td>\n",
       "      <td>...</td>\n",
       "      <td>0.763983</td>\n",
       "      <td>0.018680</td>\n",
       "      <td>0.004036</td>\n",
       "      <td>0.445992</td>\n",
       "      <td>0.353033</td>\n",
       "      <td>0.002476</td>\n",
       "      <td>0.005231</td>\n",
       "      <td>0.046998</td>\n",
       "      <td>0.146271</td>\n",
       "      <td>841931.632372</td>\n",
       "    </tr>\n",
       "    <tr>\n",
       "      <th>1</th>\n",
       "      <td>Hagupit</td>\n",
       "      <td>PH051705000</td>\n",
       "      <td>PH051700000</td>\n",
       "      <td>BUHI</td>\n",
       "      <td>2</td>\n",
       "      <td>36</td>\n",
       "      <td>38</td>\n",
       "      <td>77143</td>\n",
       "      <td>15598</td>\n",
       "      <td>410.885868</td>\n",
       "      <td>...</td>\n",
       "      <td>0.642024</td>\n",
       "      <td>0.043862</td>\n",
       "      <td>0.009612</td>\n",
       "      <td>0.379082</td>\n",
       "      <td>0.153315</td>\n",
       "      <td>0.013588</td>\n",
       "      <td>0.011435</td>\n",
       "      <td>0.304626</td>\n",
       "      <td>0.137955</td>\n",
       "      <td>690084.104804</td>\n",
       "    </tr>\n",
       "    <tr>\n",
       "      <th>2</th>\n",
       "      <td>Hagupit</td>\n",
       "      <td>PH051708000</td>\n",
       "      <td>PH051700000</td>\n",
       "      <td>CALABANGA</td>\n",
       "      <td>1</td>\n",
       "      <td>16</td>\n",
       "      <td>17</td>\n",
       "      <td>83033</td>\n",
       "      <td>15603</td>\n",
       "      <td>548.815228</td>\n",
       "      <td>...</td>\n",
       "      <td>0.591923</td>\n",
       "      <td>0.033103</td>\n",
       "      <td>0.001631</td>\n",
       "      <td>0.428224</td>\n",
       "      <td>0.132125</td>\n",
       "      <td>0.007532</td>\n",
       "      <td>0.006575</td>\n",
       "      <td>0.303373</td>\n",
       "      <td>0.122172</td>\n",
       "      <td>684146.723000</td>\n",
       "    </tr>\n",
       "    <tr>\n",
       "      <th>3</th>\n",
       "      <td>Hagupit</td>\n",
       "      <td>PH051711000</td>\n",
       "      <td>PH051700000</td>\n",
       "      <td>CARAMOAN</td>\n",
       "      <td>3</td>\n",
       "      <td>229</td>\n",
       "      <td>232</td>\n",
       "      <td>47605</td>\n",
       "      <td>9005</td>\n",
       "      <td>174.050228</td>\n",
       "      <td>...</td>\n",
       "      <td>0.473762</td>\n",
       "      <td>0.020442</td>\n",
       "      <td>0.011614</td>\n",
       "      <td>0.231428</td>\n",
       "      <td>0.229152</td>\n",
       "      <td>0.002968</td>\n",
       "      <td>0.004865</td>\n",
       "      <td>0.381787</td>\n",
       "      <td>0.149800</td>\n",
       "      <td>588138.632081</td>\n",
       "    </tr>\n",
       "    <tr>\n",
       "      <th>4</th>\n",
       "      <td>Hagupit</td>\n",
       "      <td>PH051714000</td>\n",
       "      <td>PH051700000</td>\n",
       "      <td>GARCHITORENA</td>\n",
       "      <td>131</td>\n",
       "      <td>76</td>\n",
       "      <td>207</td>\n",
       "      <td>27010</td>\n",
       "      <td>4593</td>\n",
       "      <td>110.319645</td>\n",
       "      <td>...</td>\n",
       "      <td>0.224004</td>\n",
       "      <td>0.042626</td>\n",
       "      <td>0.035760</td>\n",
       "      <td>0.176309</td>\n",
       "      <td>0.345461</td>\n",
       "      <td>0.003102</td>\n",
       "      <td>0.000517</td>\n",
       "      <td>0.313690</td>\n",
       "      <td>0.160921</td>\n",
       "      <td>610666.451338</td>\n",
       "    </tr>\n",
       "  </tbody>\n",
       "</table>\n",
       "<p>5 rows × 39 columns</p>\n",
       "</div>"
      ],
      "text/plain": [
       "  typhoon_name admin_L3_code admin_L2_code admin_L3_name  comp_damage_houses  \\\n",
       "0      Hagupit   PH045620000   PH045600000       INFANTA                   1   \n",
       "1      Hagupit   PH051705000   PH051700000          BUHI                   2   \n",
       "2      Hagupit   PH051708000   PH051700000     CALABANGA                   1   \n",
       "3      Hagupit   PH051711000   PH051700000      CARAMOAN                   3   \n",
       "4      Hagupit   PH051714000   PH051700000  GARCHITORENA                 131   \n",
       "\n",
       "   part_damage_houses  total_damage_houses  pop_15  n_households  \\\n",
       "0                   1                    2   69079         14638   \n",
       "1                  36                   38   77143         15598   \n",
       "2                  16                   17   83033         15603   \n",
       "3                 229                  232   47605          9005   \n",
       "4                  76                  207   27010          4593   \n",
       "\n",
       "   pop_density_15            ...              roof_iron  roof_half_conc  \\\n",
       "0      401.099731            ...               0.763983        0.018680   \n",
       "1      410.885868            ...               0.642024        0.043862   \n",
       "2      548.815228            ...               0.591923        0.033103   \n",
       "3      174.050228            ...               0.473762        0.020442   \n",
       "4      110.319645            ...               0.224004        0.042626   \n",
       "\n",
       "   roof_wood  wall_conc  wall_wood  wall_iron  wall_makeshift  wall_bamboo  \\\n",
       "0   0.004036   0.445992   0.353033   0.002476        0.005231     0.046998   \n",
       "1   0.009612   0.379082   0.153315   0.013588        0.011435     0.304626   \n",
       "2   0.001631   0.428224   0.132125   0.007532        0.006575     0.303373   \n",
       "3   0.011614   0.231428   0.229152   0.002968        0.004865     0.381787   \n",
       "4   0.035760   0.176309   0.345461   0.003102        0.000517     0.313690   \n",
       "\n",
       "   wall_half_wood  mean_elevation_neighbours  \n",
       "0        0.146271              841931.632372  \n",
       "1        0.137955              690084.104804  \n",
       "2        0.122172              684146.723000  \n",
       "3        0.149800              588138.632081  \n",
       "4        0.160921              610666.451338  \n",
       "\n",
       "[5 rows x 39 columns]"
      ]
     },
     "execution_count": 130,
     "metadata": {},
     "output_type": "execute_result"
    }
   ],
   "source": [
    "df.head()"
   ]
  },
  {
   "cell_type": "code",
   "execution_count": 167,
   "metadata": {
    "collapsed": true
   },
   "outputs": [],
   "source": [
    "df['typhoon_direction'] = (df.distance_typhoon_km * 1000 ) - df.distance_first_impact"
   ]
  },
  {
   "cell_type": "code",
   "execution_count": 188,
   "metadata": {
    "collapsed": true
   },
   "outputs": [],
   "source": [
    "df = pd.read_csv('new_data.csv')"
   ]
  },
  {
   "cell_type": "code",
   "execution_count": 190,
   "metadata": {},
   "outputs": [
    {
     "data": {
      "text/plain": [
       "Index([u'typhoon_name', u'admin_L3_code', u'admin_L2_code', u'admin_L3_name',\n",
       "       u'comp_damage_houses', u'part_damage_houses', u'total_damage_houses',\n",
       "       u'pop_15', u'n_households', u'pop_density_15', u'average_speed_mph',\n",
       "       u'distance_typhoon_km', u'Rainfallme', u'distance_first_impact',\n",
       "       u'x_pos', u'y_pos', u'mean_elevation_m', u'mean_slope', u'slope_stdev',\n",
       "       u'mean_ruggedness', u'ruggedness_stdev', u'with_coast', u'coast_length',\n",
       "       u'perimeter', u'area_km2', u'poverty_perc', u'roof_conc',\n",
       "       u'roof_makeshift', u'roof_straw', u'roof_iron', u'roof_half_conc',\n",
       "       u'roof_wood', u'wall_conc', u'wall_wood', u'wall_iron',\n",
       "       u'wall_makeshift', u'wall_bamboo', u'wall_half_wood',\n",
       "       u'mean_elevation_neighbours', u'typhoon_direction'],\n",
       "      dtype='object')"
      ]
     },
     "execution_count": 190,
     "metadata": {},
     "output_type": "execute_result"
    }
   ],
   "source": [
    "df.columns"
   ]
  },
  {
   "cell_type": "code",
   "execution_count": 9,
   "metadata": {},
   "outputs": [
    {
     "data": {
      "text/plain": [
       "<matplotlib.collections.PathCollection at 0x7f0e580e92d0>"
      ]
     },
     "execution_count": 9,
     "metadata": {},
     "output_type": "execute_result"
    },
    {
     "data": {
      "image/png": "[encoded data removed]",
      "text/plain": [
       "<matplotlib.figure.Figure at 0x7f0e58156710>"
      ]
     },
     "metadata": {},
     "output_type": "display_data"
    }
   ],
   "source": [
    "plt.scatter(df.comp_damage_houses, df.part_damage_houses)"
   ]
  },
  {
   "cell_type": "code",
   "execution_count": 11,
   "metadata": {},
   "outputs": [
    {
     "data": {
      "text/plain": [
       "array([[ 1.        ,  0.49112953],\n",
       "       [ 0.49112953,  1.        ]])"
      ]
     },
     "execution_count": 11,
     "metadata": {},
     "output_type": "execute_result"
    }
   ],
   "source": [
    "np.corrcoef(df.comp_damage_houses, df.part_damage_houses)"
   ]
  },
  {
   "cell_type": "code",
   "execution_count": 24,
   "metadata": {
    "collapsed": true
   },
   "outputs": [],
   "source": [
    "group = df.groupby('typhoon_name')"
   ]
  },
  {
   "cell_type": "code",
   "execution_count": 26,
   "metadata": {},
   "outputs": [
    {
     "data": {
      "text/plain": [
       "typhoon_name\n",
       "Hagupit     Axes(0.125,0.125;0.775x0.755)\n",
       "Haima       Axes(0.125,0.125;0.775x0.755)\n",
       "Haiyan      Axes(0.125,0.125;0.775x0.755)\n",
       "Rammasun    Axes(0.125,0.125;0.775x0.755)\n",
       "dtype: object"
      ]
     },
     "execution_count": 26,
     "metadata": {},
     "output_type": "execute_result"
    },
    {
     "data": {
      "image/png": "[encoded data removed]",
      "text/plain": [
       "<matplotlib.figure.Figure at 0x7f0e4ff877d0>"
      ]
     },
     "metadata": {},
     "output_type": "display_data"
    },
    {
     "data": {
      "image/png": "[encoded data removed]",
      "text/plain": [
       "<matplotlib.figure.Figure at 0x7f0e4ff5fa90>"
      ]
     },
     "metadata": {},
     "output_type": "display_data"
    },
    {
     "data": {
      "image/png": "[encoded data removed]",
      "text/plain": [
       "<matplotlib.figure.Figure at 0x7f0e4ff71390>"
      ]
     },
     "metadata": {},
     "output_type": "display_data"
    },
    {
     "data": {
      "image/png": "[encoded data removed]",
      "text/plain": [
       "<matplotlib.figure.Figure at 0x7f0e4fe0ef90>"
      ]
     },
     "metadata": {},
     "output_type": "display_data"
    },
    {
     "data": {
      "image/png": "[encoded data removed]",
      "text/plain": [
       "<matplotlib.figure.Figure at 0x7f0e4fe1da10>"
      ]
     },
     "metadata": {},
     "output_type": "display_data"
    }
   ],
   "source": [
    "colors = {'Hagupit': 'r',\n",
    "          'Rammasun': 'y',\n",
    "          'Haiyan': 'g',\n",
    "          'Melor': 'm'}\n",
    "c = df.typhoon_name.map(lambda x: colors.get(x))\n",
    "group.plot.scatter(x='comp_damage_houses', y='part_damage_houses')"
   ]
  },
  {
   "cell_type": "code",
   "execution_count": 27,
   "metadata": {
    "collapsed": true
   },
   "outputs": [],
   "source": [
    "df_raw = pd.read_csv('1. Modelling challenge/trainingset.csv')"
   ]
  },
  {
   "cell_type": "code",
   "execution_count": 29,
   "metadata": {
    "collapsed": true
   },
   "outputs": [],
   "source": [
    "g2 = df_raw.groupby('typhoon_name')"
   ]
  },
  {
   "cell_type": "code",
   "execution_count": null,
   "metadata": {
    "collapsed": true
   },
   "outputs": [],
   "source": [
    "colors = {'Hagupit': 'r',\n",
    "          'Rammasun': 'y',\n",
    "          'Haiyan': 'g',\n",
    "          'Melor': 'm'}\n",
    "c = df.typhoon_name.map(lambda x: colors.get(x))\n",
    "pd.plotting.scatter_matrix(df, c=c, figsize=(20, 20))"
   ]
  },
  {
   "cell_type": "code",
   "execution_count": 113,
   "metadata": {},
   "outputs": [
    {
     "data": {
      "text/html": [
       "<div>\n",
       "<style>\n",
       "    .dataframe thead tr:only-child th {\n",
       "        text-align: right;\n",
       "    }\n",
       "\n",
       "    .dataframe thead th {\n",
       "        text-align: left;\n",
       "    }\n",
       "\n",
       "    .dataframe tbody tr th {\n",
       "        vertical-align: top;\n",
       "    }\n",
       "</style>\n",
       "<table border=\"1\" class=\"dataframe\">\n",
       "  <thead>\n",
       "    <tr style=\"text-align: right;\">\n",
       "      <th></th>\n",
       "      <th>typhoon_name</th>\n",
       "      <th>admin_L3_code</th>\n",
       "      <th>admin_L2_code</th>\n",
       "      <th>comp_damage_houses</th>\n",
       "      <th>part_damage_houses</th>\n",
       "      <th>total_damage_houses</th>\n",
       "      <th>pop_15</th>\n",
       "      <th>n_households</th>\n",
       "      <th>pop_density_15</th>\n",
       "      <th>average_speed_mph</th>\n",
       "      <th>...</th>\n",
       "      <th>VICTORIA</th>\n",
       "      <th>VIGA</th>\n",
       "      <th>VILLABA</th>\n",
       "      <th>VILLAREAL</th>\n",
       "      <th>VILLAVICIOSA</th>\n",
       "      <th>VINTAR</th>\n",
       "      <th>VINZONS</th>\n",
       "      <th>VIRAC (Capital)</th>\n",
       "      <th>ZARRAGA</th>\n",
       "      <th>mean_elevation_neighbours</th>\n",
       "    </tr>\n",
       "  </thead>\n",
       "  <tbody>\n",
       "    <tr>\n",
       "      <th>0</th>\n",
       "      <td>Hagupit</td>\n",
       "      <td>PH045620000</td>\n",
       "      <td>PH045600000</td>\n",
       "      <td>1</td>\n",
       "      <td>1</td>\n",
       "      <td>2</td>\n",
       "      <td>69079</td>\n",
       "      <td>14638</td>\n",
       "      <td>401.099731</td>\n",
       "      <td>46.914636</td>\n",
       "      <td>...</td>\n",
       "      <td>0.0</td>\n",
       "      <td>0.0</td>\n",
       "      <td>0.0</td>\n",
       "      <td>0.0</td>\n",
       "      <td>0.0</td>\n",
       "      <td>0.0</td>\n",
       "      <td>0.0</td>\n",
       "      <td>0.0</td>\n",
       "      <td>0.0</td>\n",
       "      <td>841931.632372</td>\n",
       "    </tr>\n",
       "    <tr>\n",
       "      <th>1</th>\n",
       "      <td>Hagupit</td>\n",
       "      <td>PH051705000</td>\n",
       "      <td>PH051700000</td>\n",
       "      <td>2</td>\n",
       "      <td>36</td>\n",
       "      <td>38</td>\n",
       "      <td>77143</td>\n",
       "      <td>15598</td>\n",
       "      <td>410.885868</td>\n",
       "      <td>60.000000</td>\n",
       "      <td>...</td>\n",
       "      <td>0.0</td>\n",
       "      <td>0.0</td>\n",
       "      <td>0.0</td>\n",
       "      <td>0.0</td>\n",
       "      <td>0.0</td>\n",
       "      <td>0.0</td>\n",
       "      <td>0.0</td>\n",
       "      <td>0.0</td>\n",
       "      <td>0.0</td>\n",
       "      <td>690084.104804</td>\n",
       "    </tr>\n",
       "    <tr>\n",
       "      <th>2</th>\n",
       "      <td>Hagupit</td>\n",
       "      <td>PH051708000</td>\n",
       "      <td>PH051700000</td>\n",
       "      <td>1</td>\n",
       "      <td>16</td>\n",
       "      <td>17</td>\n",
       "      <td>83033</td>\n",
       "      <td>15603</td>\n",
       "      <td>548.815228</td>\n",
       "      <td>60.000000</td>\n",
       "      <td>...</td>\n",
       "      <td>0.0</td>\n",
       "      <td>0.0</td>\n",
       "      <td>0.0</td>\n",
       "      <td>0.0</td>\n",
       "      <td>0.0</td>\n",
       "      <td>0.0</td>\n",
       "      <td>0.0</td>\n",
       "      <td>0.0</td>\n",
       "      <td>0.0</td>\n",
       "      <td>684146.723000</td>\n",
       "    </tr>\n",
       "    <tr>\n",
       "      <th>3</th>\n",
       "      <td>Hagupit</td>\n",
       "      <td>PH051711000</td>\n",
       "      <td>PH051700000</td>\n",
       "      <td>3</td>\n",
       "      <td>229</td>\n",
       "      <td>232</td>\n",
       "      <td>47605</td>\n",
       "      <td>9005</td>\n",
       "      <td>174.050228</td>\n",
       "      <td>50.000000</td>\n",
       "      <td>...</td>\n",
       "      <td>0.0</td>\n",
       "      <td>0.0</td>\n",
       "      <td>0.0</td>\n",
       "      <td>0.0</td>\n",
       "      <td>0.0</td>\n",
       "      <td>0.0</td>\n",
       "      <td>0.0</td>\n",
       "      <td>0.0</td>\n",
       "      <td>0.0</td>\n",
       "      <td>588138.632081</td>\n",
       "    </tr>\n",
       "    <tr>\n",
       "      <th>4</th>\n",
       "      <td>Hagupit</td>\n",
       "      <td>PH051714000</td>\n",
       "      <td>PH051700000</td>\n",
       "      <td>131</td>\n",
       "      <td>76</td>\n",
       "      <td>207</td>\n",
       "      <td>27010</td>\n",
       "      <td>4593</td>\n",
       "      <td>110.319645</td>\n",
       "      <td>50.000000</td>\n",
       "      <td>...</td>\n",
       "      <td>0.0</td>\n",
       "      <td>0.0</td>\n",
       "      <td>0.0</td>\n",
       "      <td>0.0</td>\n",
       "      <td>0.0</td>\n",
       "      <td>0.0</td>\n",
       "      <td>0.0</td>\n",
       "      <td>0.0</td>\n",
       "      <td>0.0</td>\n",
       "      <td>610666.451338</td>\n",
       "    </tr>\n",
       "  </tbody>\n",
       "</table>\n",
       "<p>5 rows × 684 columns</p>\n",
       "</div>"
      ],
      "text/plain": [
       "  typhoon_name admin_L3_code admin_L2_code  comp_damage_houses  \\\n",
       "0      Hagupit   PH045620000   PH045600000                   1   \n",
       "1      Hagupit   PH051705000   PH051700000                   2   \n",
       "2      Hagupit   PH051708000   PH051700000                   1   \n",
       "3      Hagupit   PH051711000   PH051700000                   3   \n",
       "4      Hagupit   PH051714000   PH051700000                 131   \n",
       "\n",
       "   part_damage_houses  total_damage_houses  pop_15  n_households  \\\n",
       "0                   1                    2   69079         14638   \n",
       "1                  36                   38   77143         15598   \n",
       "2                  16                   17   83033         15603   \n",
       "3                 229                  232   47605          9005   \n",
       "4                  76                  207   27010          4593   \n",
       "\n",
       "   pop_density_15  average_speed_mph            ...              VICTORIA  \\\n",
       "0      401.099731          46.914636            ...                   0.0   \n",
       "1      410.885868          60.000000            ...                   0.0   \n",
       "2      548.815228          60.000000            ...                   0.0   \n",
       "3      174.050228          50.000000            ...                   0.0   \n",
       "4      110.319645          50.000000            ...                   0.0   \n",
       "\n",
       "   VIGA  VILLABA  VILLAREAL  VILLAVICIOSA  VINTAR  VINZONS  VIRAC (Capital)  \\\n",
       "0   0.0      0.0        0.0           0.0     0.0      0.0              0.0   \n",
       "1   0.0      0.0        0.0           0.0     0.0      0.0              0.0   \n",
       "2   0.0      0.0        0.0           0.0     0.0      0.0              0.0   \n",
       "3   0.0      0.0        0.0           0.0     0.0      0.0              0.0   \n",
       "4   0.0      0.0        0.0           0.0     0.0      0.0              0.0   \n",
       "\n",
       "   ZARRAGA  mean_elevation_neighbours  \n",
       "0      0.0              841931.632372  \n",
       "1      0.0              690084.104804  \n",
       "2      0.0              684146.723000  \n",
       "3      0.0              588138.632081  \n",
       "4      0.0              610666.451338  \n",
       "\n",
       "[5 rows x 684 columns]"
      ]
     },
     "execution_count": 113,
     "metadata": {},
     "output_type": "execute_result"
    }
   ],
   "source": [
    "df.head()"
   ]
  },
  {
   "cell_type": "code",
   "execution_count": 131,
   "metadata": {},
   "outputs": [],
   "source": [
    "\n",
    "    "
   ]
  },
  {
   "cell_type": "code",
   "execution_count": 195,
   "metadata": {
    "collapsed": true
   },
   "outputs": [],
   "source": [
    "from sklearn.model_selection import GroupKFold\n",
    "from sklearn.pipeline import Pipeline\n",
    "from sklearn.ensemble import RandomForestRegressor\n",
    "from sklearn.metrics import r2_score\n",
    "from sklearn.preprocessing import StandardScaler, MinMaxScaler\n",
    "from sklearn.decomposition import PCA\n",
    "from sklearn.linear_model import Ridge, Lasso, LinearRegression"
   ]
  },
  {
   "cell_type": "code",
   "execution_count": 192,
   "metadata": {},
   "outputs": [],
   "source": [
    "df = df.drop(['x_pos', 'y_pos'], axis=1)"
   ]
  },
  {
   "cell_type": "code",
   "execution_count": 194,
   "metadata": {},
   "outputs": [
    {
     "name": "stdout",
     "output_type": "stream",
     "text": [
      "Index([u'typhoon_name', u'admin_L3_code', u'admin_L2_code', u'admin_L3_name',\n",
      "       u'comp_damage_houses', u'part_damage_houses', u'total_damage_houses',\n",
      "       u'pop_15', u'n_households', u'pop_density_15', u'average_speed_mph',\n",
      "       u'distance_typhoon_km', u'Rainfallme', u'distance_first_impact',\n",
      "       u'mean_elevation_m', u'mean_slope', u'slope_stdev', u'mean_ruggedness',\n",
      "       u'ruggedness_stdev', u'with_coast', u'coast_length', u'perimeter',\n",
      "       u'area_km2', u'poverty_perc', u'roof_conc', u'roof_makeshift',\n",
      "       u'roof_straw', u'roof_iron', u'roof_half_conc', u'roof_wood',\n",
      "       u'wall_conc', u'wall_wood', u'wall_iron', u'wall_makeshift',\n",
      "       u'wall_bamboo', u'wall_half_wood', u'mean_elevation_neighbours',\n",
      "       u'typhoon_direction'],\n",
      "      dtype='object')\n",
      "Index([u'pop_15', u'n_households', u'pop_density_15', u'average_speed_mph',\n",
      "       u'distance_typhoon_km', u'Rainfallme', u'distance_first_impact',\n",
      "       u'mean_elevation_m', u'mean_slope', u'slope_stdev', u'mean_ruggedness',\n",
      "       u'ruggedness_stdev', u'with_coast', u'coast_length', u'perimeter',\n",
      "       u'area_km2', u'poverty_perc', u'roof_conc', u'roof_makeshift',\n",
      "       u'roof_straw', u'roof_iron', u'roof_half_conc', u'roof_wood',\n",
      "       u'wall_conc', u'wall_wood', u'wall_iron', u'wall_makeshift',\n",
      "       u'wall_bamboo', u'wall_half_wood', u'mean_elevation_neighbours',\n",
      "       u'typhoon_direction'],\n",
      "      dtype='object')\n"
     ]
    }
   ],
   "source": [
    "# print df_new.columns\n",
    "# X = df_new[df_new.columns[7:]].values\n",
    "# y = (df_new.total_damage_houses / df_new.n_households).values\n",
    "# df_data = df_new[df_new.columns[7\n",
    "print df.columns\n",
    "X = df[df.columns[7:]].values\n",
    "y1 = df.part_damage_houses.values\n",
    "y2 = df.comp_damage_houses.values\n",
    "y = df.total_damage_houses.values\n",
    "df_data = df[df.columns[7:]]\n",
    "print df_data.columns"
   ]
  },
  {
   "cell_type": "code",
   "execution_count": 175,
   "metadata": {},
   "outputs": [
    {
     "data": {
      "text/plain": [
       "Index([u'pop_15', u'n_households', u'pop_density_15', u'average_speed_mph',\n",
       "       u'distance_typhoon_km', u'Rainfallme', u'distance_first_impact',\n",
       "       u'mean_elevation_m', u'mean_slope', u'slope_stdev', u'mean_ruggedness',\n",
       "       u'ruggedness_stdev', u'with_coast', u'coast_length', u'perimeter',\n",
       "       u'area_km2', u'poverty_perc', u'roof_conc', u'roof_makeshift',\n",
       "       u'roof_straw', u'roof_iron', u'roof_half_conc', u'roof_wood',\n",
       "       u'wall_conc', u'wall_wood', u'wall_iron', u'wall_makeshift',\n",
       "       u'wall_bamboo', u'wall_half_wood', u'mean_elevation_neighbours'],\n",
       "      dtype='object')"
      ]
     },
     "execution_count": 175,
     "metadata": {},
     "output_type": "execute_result"
    }
   ],
   "source": [
    "df_data.columns"
   ]
  },
  {
   "cell_type": "code",
   "execution_count": 239,
   "metadata": {
    "collapsed": true
   },
   "outputs": [],
   "source": []
  },
  {
   "cell_type": "code",
   "execution_count": 240,
   "metadata": {},
   "outputs": [
    {
     "data": {
      "text/plain": [
       "Index([u'typhoon_name', u'admin_L3_code', u'admin_L2_code', u'admin_L3_name',\n",
       "       u'comp_damage_houses', u'part_damage_houses', u'total_damage_houses',\n",
       "       u'pop_15', u'n_households', u'pop_density_15', u'average_speed_mph',\n",
       "       u'distance_typhoon_km', u'Rainfallme', u'distance_first_impact',\n",
       "       u'x_pos', u'y_pos', u'mean_elevation_m', u'mean_slope', u'slope_stdev',\n",
       "       u'mean_ruggedness', u'ruggedness_stdev', u'with_coast', u'coast_length',\n",
       "       u'perimeter', u'area_km2', u'poverty_perc', u'roof_conc',\n",
       "       u'roof_makeshift', u'roof_straw', u'roof_iron', u'roof_half_conc',\n",
       "       u'roof_wood', u'wall_conc', u'wall_wood', u'wall_iron',\n",
       "       u'wall_makeshift', u'wall_bamboo', u'wall_half_wood',\n",
       "       u'mean_elevation_neighbours'],\n",
       "      dtype='object')"
      ]
     },
     "execution_count": 240,
     "metadata": {},
     "output_type": "execute_result"
    }
   ],
   "source": [
    "tmp.columns"
   ]
  },
  {
   "cell_type": "code",
   "execution_count": 241,
   "metadata": {},
   "outputs": [
    {
     "data": {
      "text/plain": [
       "Index([u'typhoon_name', u'admin_L3_code', u'admin_L2_code', u'admin_L3_name',\n",
       "       u'comp_damage_houses', u'part_damage_houses', u'total_damage_houses',\n",
       "       u'pop_15', u'n_households', u'pop_density_15', u'average_speed_mph',\n",
       "       u'distance_typhoon_km', u'Rainfallme', u'distance_first_impact',\n",
       "       u'x_pos', u'y_pos', u'mean_elevation_m', u'mean_slope', u'slope_stdev',\n",
       "       u'mean_ruggedness', u'ruggedness_stdev', u'with_coast', u'coast_length',\n",
       "       u'perimeter', u'area_km2', u'poverty_perc', u'roof_conc',\n",
       "       u'roof_makeshift', u'roof_straw', u'roof_iron', u'roof_half_conc',\n",
       "       u'roof_wood', u'wall_conc', u'wall_wood', u'wall_iron',\n",
       "       u'wall_makeshift', u'wall_bamboo', u'wall_half_wood',\n",
       "       u'mean_elevation_neighbours', u'typhoon_direction', u'duration_days',\n",
       "       u'in_winter'],\n",
       "      dtype='object')"
      ]
     },
     "execution_count": 241,
     "metadata": {},
     "output_type": "execute_result"
    }
   ],
   "source": [
    "df.columns"
   ]
  },
  {
   "cell_type": "code",
   "execution_count": 478,
   "metadata": {
    "collapsed": true
   },
   "outputs": [],
   "source": [
    "import load_data\n",
    "reload(load_data)\n",
    "from load_data import run, calculate_weighted_by_distance"
   ]
  },
  {
   "cell_type": "code",
   "execution_count": 479,
   "metadata": {},
   "outputs": [],
   "source": [
    "df = run(PATH='1. Modelling challenge/trainingset.csv')\n",
    "df = df.drop(['x_pos', 'y_pos'], axis=1)\n",
    "df = df.fillna(0)\n",
    "cent = pd.read_csv('Philippines_adm3_centroids.csv')\n",
    "house_material_perc_names = ['roof_conc', 'roof_makeshift', 'roof_straw', 'roof_iron', 'roof_half_conc', 'roof_wood', 'wall_conc', 'wall_wood', 'wall_iron', 'wall_makeshift', 'wall_bamboo', 'wall_half_wood']\n",
    "for house_material_perc_name in house_material_perc_names:\n",
    "    df = df.drop(house_material_perc_name, axis=1)"
   ]
  },
  {
   "cell_type": "code",
   "execution_count": 480,
   "metadata": {},
   "outputs": [],
   "source": [
    "katja = pd.read_csv('new_data.csv')\n",
    "katja = katja.iloc[:, np.argmax(katja.columns == 'duration_days'):]\n",
    "# katja = katja.drop(['X', 'Y'], axis=1)\n",
    "df = pd.concat((df, katja), axis=1)"
   ]
  },
  {
   "cell_type": "code",
   "execution_count": 481,
   "metadata": {},
   "outputs": [
    {
     "data": {
      "text/plain": [
       "Index([u'duration_days', u'in_winter', u'roof_conc_abs', u'roof_makeshift_abs',\n",
       "       u'roof_straw_abs', u'roof_iron_abs', u'roof_half_conc_abs',\n",
       "       u'roof_wood_abs', u'wall_conc_abs', u'wall_wood_abs', u'wall_iron_abs',\n",
       "       u'wall_makeshift_abs', u'wall_bamboo_abs', u'wall_half_wood_abs'],\n",
       "      dtype='object')"
      ]
     },
     "execution_count": 481,
     "metadata": {},
     "output_type": "execute_result"
    }
   ],
   "source": [
    "katja.columns"
   ]
  },
  {
   "cell_type": "code",
   "execution_count": 482,
   "metadata": {},
   "outputs": [
    {
     "data": {
      "text/plain": [
       "Index([u'typhoon_name', u'admin_L3_code', u'admin_L2_code', u'admin_L3_name',\n",
       "       u'comp_damage_houses', u'part_damage_houses', u'total_damage_houses',\n",
       "       u'pop_15', u'n_households', u'pop_density_15', u'average_speed_mph',\n",
       "       u'distance_typhoon_km', u'Rainfallme', u'distance_first_impact',\n",
       "       u'mean_elevation_m', u'mean_slope', u'slope_stdev', u'mean_ruggedness',\n",
       "       u'ruggedness_stdev', u'with_coast', u'coast_length', u'perimeter',\n",
       "       u'area_km2', u'poverty_perc', u'mean_elevation_neighbours',\n",
       "       u'weighted_rain', u'duration_days', u'in_winter', u'roof_conc_abs',\n",
       "       u'roof_makeshift_abs', u'roof_straw_abs', u'roof_iron_abs',\n",
       "       u'roof_half_conc_abs', u'roof_wood_abs', u'wall_conc_abs',\n",
       "       u'wall_wood_abs', u'wall_iron_abs', u'wall_makeshift_abs',\n",
       "       u'wall_bamboo_abs', u'wall_half_wood_abs'],\n",
       "      dtype='object')"
      ]
     },
     "execution_count": 482,
     "metadata": {},
     "output_type": "execute_result"
    }
   ],
   "source": [
    "df.columns"
   ]
  },
  {
   "cell_type": "code",
   "execution_count": 483,
   "metadata": {},
   "outputs": [
    {
     "data": {
      "text/plain": [
       "Index([u'X', u'Y', u'FID', u'Source_ID', u'Mun_Code', u'Mun_Name'], dtype='object')"
      ]
     },
     "execution_count": 483,
     "metadata": {},
     "output_type": "execute_result"
    }
   ],
   "source": [
    "cent.columns"
   ]
  },
  {
   "cell_type": "code",
   "execution_count": 484,
   "metadata": {},
   "outputs": [],
   "source": [
    "merged = pd.merge(df, cent.loc[:, ['X', 'Y', 'Mun_Code']], left_on='admin_L3_code', right_on='Mun_Code')\n",
    "merged = merged.drop('Mun_Code', axis=1)"
   ]
  },
  {
   "cell_type": "code",
   "execution_count": 485,
   "metadata": {},
   "outputs": [
    {
     "data": {
      "text/plain": [
       "Index([u'typhoon_name', u'admin_L3_code', u'admin_L2_code', u'admin_L3_name',\n",
       "       u'comp_damage_houses', u'part_damage_houses', u'total_damage_houses',\n",
       "       u'pop_15', u'n_households', u'pop_density_15', u'average_speed_mph',\n",
       "       u'distance_typhoon_km', u'Rainfallme', u'distance_first_impact',\n",
       "       u'mean_elevation_m', u'mean_slope', u'slope_stdev', u'mean_ruggedness',\n",
       "       u'ruggedness_stdev', u'with_coast', u'coast_length', u'perimeter',\n",
       "       u'area_km2', u'poverty_perc', u'mean_elevation_neighbours',\n",
       "       u'weighted_rain', u'duration_days', u'in_winter', u'roof_conc_abs',\n",
       "       u'roof_makeshift_abs', u'roof_straw_abs', u'roof_iron_abs',\n",
       "       u'roof_half_conc_abs', u'roof_wood_abs', u'wall_conc_abs',\n",
       "       u'wall_wood_abs', u'wall_iron_abs', u'wall_makeshift_abs',\n",
       "       u'wall_bamboo_abs', u'wall_half_wood_abs', u'X', u'Y'],\n",
       "      dtype='object')"
      ]
     },
     "execution_count": 485,
     "metadata": {},
     "output_type": "execute_result"
    }
   ],
   "source": [
    "merged.columns"
   ]
  },
  {
   "cell_type": "code",
   "execution_count": 486,
   "metadata": {
    "scrolled": true
   },
   "outputs": [
    {
     "data": {
      "text/html": [
       "<div>\n",
       "<style>\n",
       "    .dataframe thead tr:only-child th {\n",
       "        text-align: right;\n",
       "    }\n",
       "\n",
       "    .dataframe thead th {\n",
       "        text-align: left;\n",
       "    }\n",
       "\n",
       "    .dataframe tbody tr th {\n",
       "        vertical-align: top;\n",
       "    }\n",
       "</style>\n",
       "<table border=\"1\" class=\"dataframe\">\n",
       "  <thead>\n",
       "    <tr style=\"text-align: right;\">\n",
       "      <th></th>\n",
       "      <th>typhoon_name</th>\n",
       "      <th>admin_L3_code</th>\n",
       "      <th>admin_L2_code</th>\n",
       "      <th>admin_L3_name</th>\n",
       "      <th>comp_damage_houses</th>\n",
       "      <th>part_damage_houses</th>\n",
       "      <th>total_damage_houses</th>\n",
       "      <th>pop_15</th>\n",
       "      <th>n_households</th>\n",
       "      <th>pop_density_15</th>\n",
       "      <th>...</th>\n",
       "      <th>roof_half_conc_abs</th>\n",
       "      <th>roof_wood_abs</th>\n",
       "      <th>wall_conc_abs</th>\n",
       "      <th>wall_wood_abs</th>\n",
       "      <th>wall_iron_abs</th>\n",
       "      <th>wall_makeshift_abs</th>\n",
       "      <th>wall_bamboo_abs</th>\n",
       "      <th>wall_half_wood_abs</th>\n",
       "      <th>X</th>\n",
       "      <th>Y</th>\n",
       "    </tr>\n",
       "  </thead>\n",
       "  <tbody>\n",
       "    <tr>\n",
       "      <th>0</th>\n",
       "      <td>Hagupit</td>\n",
       "      <td>PH045620000</td>\n",
       "      <td>PH045600000</td>\n",
       "      <td>INFANTA</td>\n",
       "      <td>1</td>\n",
       "      <td>1</td>\n",
       "      <td>2</td>\n",
       "      <td>69079</td>\n",
       "      <td>14638</td>\n",
       "      <td>401.099731</td>\n",
       "      <td>...</td>\n",
       "      <td>273.434005</td>\n",
       "      <td>59.078046</td>\n",
       "      <td>6528.430208</td>\n",
       "      <td>5167.698767</td>\n",
       "      <td>36.243893</td>\n",
       "      <td>76.565215</td>\n",
       "      <td>687.954279</td>\n",
       "      <td>2141.107638</td>\n",
       "      <td>121.585726</td>\n",
       "      <td>14.675298</td>\n",
       "    </tr>\n",
       "    <tr>\n",
       "      <th>1</th>\n",
       "      <td>Rammasun</td>\n",
       "      <td>PH045620000</td>\n",
       "      <td>PH045600000</td>\n",
       "      <td>INFANTA</td>\n",
       "      <td>1</td>\n",
       "      <td>88</td>\n",
       "      <td>89</td>\n",
       "      <td>69079</td>\n",
       "      <td>14638</td>\n",
       "      <td>401.099731</td>\n",
       "      <td>...</td>\n",
       "      <td>2.809981</td>\n",
       "      <td>1.873320</td>\n",
       "      <td>70.456638</td>\n",
       "      <td>333.557176</td>\n",
       "      <td>1346.166538</td>\n",
       "      <td>0.000000</td>\n",
       "      <td>22.471220</td>\n",
       "      <td>57.348427</td>\n",
       "      <td>121.585726</td>\n",
       "      <td>14.675298</td>\n",
       "    </tr>\n",
       "    <tr>\n",
       "      <th>2</th>\n",
       "      <td>Hagupit</td>\n",
       "      <td>PH051705000</td>\n",
       "      <td>PH051700000</td>\n",
       "      <td>BUHI</td>\n",
       "      <td>2</td>\n",
       "      <td>36</td>\n",
       "      <td>38</td>\n",
       "      <td>77143</td>\n",
       "      <td>15598</td>\n",
       "      <td>410.885868</td>\n",
       "      <td>...</td>\n",
       "      <td>293.097429</td>\n",
       "      <td>344.079458</td>\n",
       "      <td>5901.168580</td>\n",
       "      <td>1249.851694</td>\n",
       "      <td>28.777534</td>\n",
       "      <td>52.036094</td>\n",
       "      <td>120.432016</td>\n",
       "      <td>1298.734083</td>\n",
       "      <td>123.518313</td>\n",
       "      <td>13.427823</td>\n",
       "    </tr>\n",
       "    <tr>\n",
       "      <th>3</th>\n",
       "      <td>Rammasun</td>\n",
       "      <td>PH051705000</td>\n",
       "      <td>PH051700000</td>\n",
       "      <td>BUHI</td>\n",
       "      <td>1193</td>\n",
       "      <td>6528</td>\n",
       "      <td>7721</td>\n",
       "      <td>77143</td>\n",
       "      <td>15598</td>\n",
       "      <td>410.885868</td>\n",
       "      <td>...</td>\n",
       "      <td>306.732248</td>\n",
       "      <td>60.413742</td>\n",
       "      <td>7248.183735</td>\n",
       "      <td>782.611911</td>\n",
       "      <td>40.765460</td>\n",
       "      <td>58.600353</td>\n",
       "      <td>209.559948</td>\n",
       "      <td>1397.278604</td>\n",
       "      <td>123.518313</td>\n",
       "      <td>13.427823</td>\n",
       "    </tr>\n",
       "    <tr>\n",
       "      <th>4</th>\n",
       "      <td>Hagupit</td>\n",
       "      <td>PH051708000</td>\n",
       "      <td>PH051700000</td>\n",
       "      <td>CALABANGA</td>\n",
       "      <td>1</td>\n",
       "      <td>16</td>\n",
       "      <td>17</td>\n",
       "      <td>83033</td>\n",
       "      <td>15603</td>\n",
       "      <td>548.815228</td>\n",
       "      <td>...</td>\n",
       "      <td>676.729869</td>\n",
       "      <td>312.301991</td>\n",
       "      <td>8688.158199</td>\n",
       "      <td>3011.076494</td>\n",
       "      <td>142.074792</td>\n",
       "      <td>148.894391</td>\n",
       "      <td>4085.389316</td>\n",
       "      <td>5270.406807</td>\n",
       "      <td>123.269997</td>\n",
       "      <td>13.709221</td>\n",
       "    </tr>\n",
       "  </tbody>\n",
       "</table>\n",
       "<p>5 rows × 42 columns</p>\n",
       "</div>"
      ],
      "text/plain": [
       "  typhoon_name admin_L3_code admin_L2_code admin_L3_name  comp_damage_houses  \\\n",
       "0      Hagupit   PH045620000   PH045600000       INFANTA                   1   \n",
       "1     Rammasun   PH045620000   PH045600000       INFANTA                   1   \n",
       "2      Hagupit   PH051705000   PH051700000          BUHI                   2   \n",
       "3     Rammasun   PH051705000   PH051700000          BUHI                1193   \n",
       "4      Hagupit   PH051708000   PH051700000     CALABANGA                   1   \n",
       "\n",
       "   part_damage_houses  total_damage_houses  pop_15  n_households  \\\n",
       "0                   1                    2   69079         14638   \n",
       "1                  88                   89   69079         14638   \n",
       "2                  36                   38   77143         15598   \n",
       "3                6528                 7721   77143         15598   \n",
       "4                  16                   17   83033         15603   \n",
       "\n",
       "   pop_density_15    ...      roof_half_conc_abs  roof_wood_abs  \\\n",
       "0      401.099731    ...              273.434005      59.078046   \n",
       "1      401.099731    ...                2.809981       1.873320   \n",
       "2      410.885868    ...              293.097429     344.079458   \n",
       "3      410.885868    ...              306.732248      60.413742   \n",
       "4      548.815228    ...              676.729869     312.301991   \n",
       "\n",
       "   wall_conc_abs  wall_wood_abs  wall_iron_abs  wall_makeshift_abs  \\\n",
       "0    6528.430208    5167.698767      36.243893           76.565215   \n",
       "1      70.456638     333.557176    1346.166538            0.000000   \n",
       "2    5901.168580    1249.851694      28.777534           52.036094   \n",
       "3    7248.183735     782.611911      40.765460           58.600353   \n",
       "4    8688.158199    3011.076494     142.074792          148.894391   \n",
       "\n",
       "   wall_bamboo_abs  wall_half_wood_abs           X          Y  \n",
       "0       687.954279         2141.107638  121.585726  14.675298  \n",
       "1        22.471220           57.348427  121.585726  14.675298  \n",
       "2       120.432016         1298.734083  123.518313  13.427823  \n",
       "3       209.559948         1397.278604  123.518313  13.427823  \n",
       "4      4085.389316         5270.406807  123.269997  13.709221  \n",
       "\n",
       "[5 rows x 42 columns]"
      ]
     },
     "execution_count": 486,
     "metadata": {},
     "output_type": "execute_result"
    }
   ],
   "source": [
    "merged.head()"
   ]
  },
  {
   "cell_type": "code",
   "execution_count": 487,
   "metadata": {
    "collapsed": true
   },
   "outputs": [],
   "source": [
    "# merged.to_csv('new_data.csv', index=False)"
   ]
  },
  {
   "cell_type": "code",
   "execution_count": 488,
   "metadata": {},
   "outputs": [],
   "source": [
    "#merged = merged.drop('distance_first_impact', axis=1)"
   ]
  },
  {
   "cell_type": "code",
   "execution_count": 489,
   "metadata": {},
   "outputs": [],
   "source": [
    "merged['weighted_x'] = merged.X * 1/merged.distance_typhoon_km\n",
    "merged['weighted_y'] = merged.Y * 1/merged.distance_typhoon_km\n",
    "merged['weighted_coast'] = merged.coast_length * merged.distance_typhoon_km\n",
    "merged['sig_wind_power'] = 1./(1 + np.exp(-(merged.average_speed_mph - 100.)))\n",
    "merged['weighted_houses'] = merged.n_households * 1/merged.distance_typhoon_km\n",
    "merged['affected_mun'] = np.nan\n",
    "for i, typ in enumerate(merged.typhoon_name.unique()):\n",
    "    merged.loc[merged.typhoon_name == typ, 'affected_mun'] = merged.loc[merged.typhoon_name == typ, \n",
    "                                                                        'admin_L3_name'].size"
   ]
  },
  {
   "cell_type": "code",
   "execution_count": 288,
   "metadata": {
    "collapsed": true
   },
   "outputs": [],
   "source": [
    "merged.to_csv('new_data.csv', index=False)"
   ]
  },
  {
   "cell_type": "code",
   "execution_count": 492,
   "metadata": {},
   "outputs": [
    {
     "name": "stdout",
     "output_type": "stream",
     "text": [
      "Index([u'pop_15', u'n_households', u'pop_density_15', u'average_speed_mph',\n",
      "       u'distance_typhoon_km', u'Rainfallme', u'distance_first_impact',\n",
      "       u'mean_elevation_m', u'mean_slope', u'slope_stdev', u'mean_ruggedness',\n",
      "       u'ruggedness_stdev', u'with_coast', u'coast_length', u'perimeter',\n",
      "       u'area_km2', u'poverty_perc', u'mean_elevation_neighbours',\n",
      "       u'weighted_rain', u'duration_days', u'in_winter', u'roof_conc_abs',\n",
      "       u'roof_makeshift_abs', u'roof_straw_abs', u'roof_iron_abs',\n",
      "       u'roof_half_conc_abs', u'roof_wood_abs', u'wall_conc_abs',\n",
      "       u'wall_wood_abs', u'wall_iron_abs', u'wall_makeshift_abs',\n",
      "       u'wall_bamboo_abs', u'wall_half_wood_abs', u'X', u'Y', u'weighted_x',\n",
      "       u'weighted_y', u'weighted_coast', u'sig_wind_power', u'weighted_houses',\n",
      "       u'affected_mun'],\n",
      "      dtype='object')\n",
      "Fold:  1\n",
      "Fold:  2\n",
      "Fold:  3\n",
      "Fold:  4\n",
      "[ -1.04879434   0.22692105   0.08658496 -38.91718955]\n",
      "-9.91311947404\n"
     ]
    }
   ],
   "source": [
    "print merged.columns[7:]\n",
    "X = merged.loc[:, merged.columns[7:]].values\n",
    "y = merged.total_damage_houses.values\n",
    "\n",
    "groups = np.zeros(merged.shape[0])\n",
    "for i, typ in enumerate(merged.typhoon_name.unique()):\n",
    "    groups[merged.typhoon_name == typ] = i\n",
    "    \n",
    "cv = GroupKFold(n_splits=4)\n",
    "scores = np.zeros(4)\n",
    "\n",
    "for i, (train, test) in enumerate(cv.split(X, y, groups=groups)):\n",
    "    print 'Fold: ', i + 1\n",
    "    Xtrain, Xtest = X[train], X[test]\n",
    "    ytrain, ytest = y[train], y[test]\n",
    "    \n",
    "#     ftr_sel = np.abs(np.corrcoef(np.column_stack((ytrain, Xtrain)).T)[0, 1:]) > 0.1\n",
    "#     ftr_sel_all[i] = ftr_sel\n",
    "#     print 'Num Ftr: ', ftr_sel.sum()\n",
    "#     Xtrain = Xtrain[:, ftr_sel]\n",
    "#     Xtest = Xtest[:, ftr_sel]\n",
    "    \n",
    "#     m_train = ytrain.mean()\n",
    "#     std_train = ytrain.std()\n",
    "#     ytrain = (ytrain - m_train)/std_train\n",
    "#     ytest = (ytest - m_train)/std_train\n",
    "    \n",
    "    pipe = Pipeline([#('scl', StandardScaler()), \n",
    "                     #('pca', PCA(n_components=0.95)),\n",
    "                     ('reg', RandomForestRegressor(n_estimators=100, n_jobs=4))])\n",
    "    pipe.fit(Xtrain, ytrain)\n",
    "    ypred = pipe.predict(Xtest)\n",
    "    scores[i] = r2_score(ytest, ypred)\n",
    "print scores\n",
    "print scores.mean()"
   ]
  },
  {
   "cell_type": "code",
   "execution_count": 419,
   "metadata": {},
   "outputs": [
    {
     "data": {
      "text/plain": [
       "RandomForestRegressor(bootstrap=True, criterion='mse', max_depth=None,\n",
       "           max_features='auto', max_leaf_nodes=None,\n",
       "           min_impurity_split=1e-07, min_samples_leaf=1,\n",
       "           min_samples_split=2, min_weight_fraction_leaf=0.0,\n",
       "           n_estimators=100, n_jobs=4, oob_score=False, random_state=None,\n",
       "           verbose=0, warm_start=False)"
      ]
     },
     "execution_count": 419,
     "metadata": {},
     "output_type": "execute_result"
    }
   ],
   "source": [
    "reg = RandomForestRegressor(n_estimators=100, n_jobs=4)\n",
    "reg.fit(X, y)"
   ]
  },
  {
   "cell_type": "code",
   "execution_count": 423,
   "metadata": {},
   "outputs": [
    {
     "data": {
      "text/plain": [
       "Index([u'typhoon_name', u'admin_L3_code', u'admin_L2_code', u'admin_L3_name',\n",
       "       u'comp_damage_houses', u'part_damage_houses', u'total_damage_houses',\n",
       "       u'pop_15', u'n_households', u'pop_density_15', u'average_speed_mph',\n",
       "       u'distance_typhoon_km', u'Rainfallme', u'distance_first_impact',\n",
       "       u'x_pos', u'y_pos', u'mean_elevation_m', u'mean_slope', u'slope_stdev',\n",
       "       u'mean_ruggedness', u'ruggedness_stdev', u'with_coast', u'coast_length',\n",
       "       u'perimeter', u'area_km2', u'poverty_perc', u'roof_conc',\n",
       "       u'roof_makeshift', u'roof_straw', u'roof_iron', u'roof_half_conc',\n",
       "       u'roof_wood', u'wall_conc', u'wall_wood', u'wall_iron',\n",
       "       u'wall_makeshift', u'wall_bamboo', u'wall_half_wood',\n",
       "       u'mean_elevation_neighbours', u'weighted_rain'],\n",
       "      dtype='object')"
      ]
     },
     "execution_count": 423,
     "metadata": {},
     "output_type": "execute_result"
    }
   ],
   "source": [
    "test.columns"
   ]
  },
  {
   "cell_type": "code",
   "execution_count": 424,
   "metadata": {},
   "outputs": [],
   "source": [
    "test = run(PATH='1. Modelling challenge/testset.csv')\n",
    "test = test.drop(['x_pos', 'y_pos'], axis=1)\n",
    "test = test.fillna(0)\n",
    "cent = pd.read_csv('Philippines_adm3_centroids.csv')\n",
    "house_material_perc_names = ['roof_conc', 'roof_makeshift', 'roof_straw', 'roof_iron', 'roof_half_conc', 'roof_wood', 'wall_conc', 'wall_wood', 'wall_iron', 'wall_makeshift', 'wall_bamboo', 'wall_half_wood']\n",
    "for house_material_perc_name in house_material_perc_names:\n",
    "    test = test.drop(house_material_perc_name, axis=1)"
   ]
  },
  {
   "cell_type": "code",
   "execution_count": 426,
   "metadata": {},
   "outputs": [],
   "source": [
    "merged_test = pd.merge(test, cent.loc[:, ['X', 'Y', 'Mun_Code']], left_on='admin_L3_code', right_on='Mun_Code')\n",
    "merged_test = merged_test.drop('Mun_Code', axis=1)"
   ]
  },
  {
   "cell_type": "code",
   "execution_count": 429,
   "metadata": {},
   "outputs": [],
   "source": [
    "merged_test['weighted_x'] = merged_test.X * 1/merged_test.distance_typhoon_km\n",
    "merged_test['weighted_y'] = merged_test.Y * 1/merged_test.distance_typhoon_km\n",
    "merged_test['weighted_coast'] = merged_test.coast_length * merged_test.distance_typhoon_km\n",
    "merged_test['sig_wind_power'] = 1./(1 + np.exp(-(merged_test.average_speed_mph - 100.)))\n",
    "merged_test['weighted_houses'] = merged_test.n_households * 1/merged_test.distance_typhoon_km\n",
    "merged_test['affected_mun'] = np.nan\n",
    "for i, typ in enumerate(merged_test.typhoon_name.unique()):\n",
    "    merged_test.loc[merged_test.typhoon_name == typ, 'affected_mun'] = merged_test.loc[merged_test.typhoon_name == typ, \n",
    "                                                                        'admin_L3_name'].size"
   ]
  },
  {
   "cell_type": "code",
   "execution_count": 431,
   "metadata": {},
   "outputs": [
    {
     "data": {
      "text/plain": [
       "Index([u'typhoon_name', u'admin_L3_code', u'admin_L2_code', u'admin_L3_name',\n",
       "       u'comp_damage_houses', u'part_damage_houses', u'total_damage_houses',\n",
       "       u'pop_15', u'n_households', u'pop_density_15', u'average_speed_mph',\n",
       "       u'distance_typhoon_km', u'Rainfallme', u'distance_first_impact',\n",
       "       u'mean_elevation_m', u'mean_slope', u'slope_stdev', u'mean_ruggedness',\n",
       "       u'ruggedness_stdev', u'with_coast', u'coast_length', u'perimeter',\n",
       "       u'area_km2', u'poverty_perc', u'mean_elevation_neighbours',\n",
       "       u'weighted_rain', u'X', u'Y', u'weighted_x', u'weighted_y',\n",
       "       u'weighted_coast', u'sig_wind_power', u'weighted_houses',\n",
       "       u'affected_mun'],\n",
       "      dtype='object')"
      ]
     },
     "execution_count": 431,
     "metadata": {},
     "output_type": "execute_result"
    }
   ],
   "source": [
    "merged_test.columns"
   ]
  }
 ],
 "metadata": {
  "kernelspec": {
   "display_name": "Python 2",
   "language": "python",
   "name": "python2"
  },
  "language_info": {
   "codemirror_mode": {
    "name": "ipython",
    "version": 2
   },
   "file_extension": ".py",
   "mimetype": "text/x-python",
   "name": "python",
   "nbconvert_exporter": "python",
   "pygments_lexer": "ipython2",
   "version": "2.7.13"
  }
 },
 "nbformat": 4,
 "nbformat_minor": 2
}
